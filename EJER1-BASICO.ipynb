{
 "cells": [
  {
   "cell_type": "markdown",
   "metadata": {},
   "source": [
    "## EJERCICIO 1 - BASICO"
   ]
  },
  {
   "cell_type": "markdown",
   "metadata": {},
   "source": [
    "El fichero datos_pago_microcreditos.csv contiene 30000 transacciones bancarias relativas al pago o impago de microcreditos. El dataset consta de 62 dimensiones propietarias de las cuales el banco no ha proporcionado informacion por confidencialidad, a parte de su valor. La matriz de entrada se encuentra en x_train, e y_train contiene la etiqueta relativa a esa transaccion, un 1 indica que si se pago el microcredito y un 0 que no se pago."
   ]
  },
  {
   "cell_type": "code",
   "execution_count": 6,
   "metadata": {},
   "outputs": [],
   "source": [
    "from sklearn.neighbors import KNeighborsClassifier\n",
    "from sklearn.tree import DecisionTreeClassifier\n",
    "from sklearn.model_selection import train_test_split, GridSearchCV\n",
    "from sklearn.preprocessing import MinMaxScaler\n",
    "from sklearn.metrics import accuracy_score, classification_report, confusion_matrix\n",
    "from sklearn.neural_network import MLPClassifier\n",
    "from sklearn.ensemble import GradientBoostingClassifier"
   ]
  },
  {
   "cell_type": "code",
   "execution_count": 7,
   "metadata": {},
   "outputs": [],
   "source": [
    "import pandas as pd\n",
    "import numpy as np\n",
    "import matplotlib.pyplot as plt"
   ]
  },
  {
   "cell_type": "code",
   "execution_count": 10,
   "metadata": {
    "scrolled": true
   },
   "outputs": [],
   "source": [
    "data_file='datos_pago_microcreditos.csv'\n",
    "\n",
    "pdl= pd.read_csv(data_file)"
   ]
  },
  {
   "cell_type": "code",
   "execution_count": 11,
   "metadata": {},
   "outputs": [
    {
     "name": "stdout",
     "output_type": "stream",
     "text": [
      "   payment var1 var2  var3   var4   var5   var6   var7  var8 var9  ...  var21  \\\n",
      "0  Success   qw   hk  3.11  16.06  -4.60  22.34  13.53  1.53   nv  ...   8.94   \n",
      "1   Denied   qw   rv  3.35  11.18 -18.55   6.68  12.78  6.62   nv  ...  31.02   \n",
      "2   Denied   qw   zg  4.15  29.19  18.91  16.40   3.67  5.72   ch  ...  23.26   \n",
      "3  Success   wv   js  6.23  15.70   2.81   4.46   5.13  8.66   ja  ...  29.25   \n",
      "4  Success   ma   xn  1.28  20.71  14.98  11.19  17.66  1.13   nv  ...   2.19   \n",
      "\n",
      "   var22  var23  var24  var25  var26  var27 var28  var29  var30  \n",
      "0 -12.76     ub  12.06   2.46   4.73  -1.72  0.91     ev   8.00  \n",
      "1  34.76     cz   1.44   9.44  13.56  -2.24  0.24     ev  -2.90  \n",
      "2   9.50     ri   7.77   8.70  -1.75   5.96  1.91     ev  22.67  \n",
      "3  -1.53     ri   8.94  19.33  23.73   5.54  0.85     ev  36.31  \n",
      "4  10.24     ub   8.92   5.48  -0.28   4.01  1.21     ev  11.33  \n",
      "\n",
      "[5 rows x 31 columns]\n"
     ]
    }
   ],
   "source": [
    "print(pdl.head())\n"
   ]
  },
  {
   "cell_type": "code",
   "execution_count": 12,
   "metadata": {},
   "outputs": [
    {
     "name": "stdout",
     "output_type": "stream",
     "text": [
      "<class 'pandas.core.frame.DataFrame'>\n",
      "RangeIndex: 30000 entries, 0 to 29999\n",
      "Data columns (total 31 columns):\n",
      " #   Column   Non-Null Count  Dtype  \n",
      "---  ------   --------------  -----  \n",
      " 0   payment  30000 non-null  object \n",
      " 1   var1     30000 non-null  object \n",
      " 2   var2     30000 non-null  object \n",
      " 3   var3     30000 non-null  float64\n",
      " 4   var4     30000 non-null  float64\n",
      " 5   var5     30000 non-null  float64\n",
      " 6   var6     30000 non-null  float64\n",
      " 7   var7     30000 non-null  float64\n",
      " 8   var8     30000 non-null  float64\n",
      " 9   var9     30000 non-null  object \n",
      " 10  var10    30000 non-null  object \n",
      " 11  var11    30000 non-null  object \n",
      " 12  var12    30000 non-null  float64\n",
      " 13  var13    30000 non-null  object \n",
      " 14  var14    30000 non-null  float64\n",
      " 15  var15    30000 non-null  float64\n",
      " 16  var16    30000 non-null  float64\n",
      " 17  var17    30000 non-null  object \n",
      " 18  var18    30000 non-null  float64\n",
      " 19  var19    30000 non-null  object \n",
      " 20  var20    30000 non-null  float64\n",
      " 21  var21    30000 non-null  float64\n",
      " 22  var22    30000 non-null  float64\n",
      " 23  var23    30000 non-null  object \n",
      " 24  var24    30000 non-null  float64\n",
      " 25  var25    30000 non-null  float64\n",
      " 26  var26    30000 non-null  float64\n",
      " 27  var27    30000 non-null  float64\n",
      " 28  var28    30000 non-null  float64\n",
      " 29  var29    30000 non-null  object \n",
      " 30  var30    30000 non-null  float64\n",
      "dtypes: float64(20), object(11)\n",
      "memory usage: 7.1+ MB\n",
      "None\n"
     ]
    }
   ],
   "source": [
    "print(pdl.info())"
   ]
  },
  {
   "cell_type": "code",
   "execution_count": 13,
   "metadata": {},
   "outputs": [
    {
     "name": "stdout",
     "output_type": "stream",
     "text": [
      "               var3          var4          var5          var6          var7  \\\n",
      "count  30000.000000  30000.000000  30000.000000  30000.000000  30000.000000   \n",
      "mean       3.018848     13.941943     19.981561      8.009453      9.110358   \n",
      "std        3.004458     14.028019     19.866781      8.013395      8.976009   \n",
      "min       -8.190000    -43.660000    -55.100000    -23.630000    -27.580000   \n",
      "25%        0.990000      4.450000      6.520000      2.550000      3.050000   \n",
      "50%        3.040000     13.920000     19.980000      8.010000      9.170000   \n",
      "75%        5.040000     23.520000     33.452500     13.430000     15.152500   \n",
      "max       15.160000     76.780000    107.080000     44.330000     48.390000   \n",
      "\n",
      "               var8         var12         var14         var15         var16  \\\n",
      "count  30000.000000  30000.000000  30000.000000  30000.000000  30000.000000   \n",
      "mean       5.993785      7.020662      2.007760     17.118747     10.919426   \n",
      "std        6.035204      7.004504      2.001967     16.900037     10.977430   \n",
      "min      -17.940000    -29.340000     -5.500000    -54.270000    -34.510000   \n",
      "25%        1.910000      2.320000      0.650000      5.677500      3.470000   \n",
      "50%        5.960000      7.020000      2.000000     17.120000     10.900000   \n",
      "75%       10.050000     11.760000      3.370000     28.620000     18.310000   \n",
      "max       29.100000     37.370000     10.090000     81.410000     60.720000   \n",
      "\n",
      "              var18         var20         var21         var22         var24  \\\n",
      "count  30000.000000  30000.000000  30000.000000  30000.000000  30000.000000   \n",
      "mean      19.040852     18.018673     15.092997     12.958633      5.003848   \n",
      "std       18.938509     17.990146     15.040573     12.969523      5.017593   \n",
      "min      -52.450000    -51.930000    -54.070000    -37.780000    -15.890000   \n",
      "25%        6.420000      6.027500      4.887500      4.190000      1.630000   \n",
      "50%       19.200000     18.015000     15.200000     12.910000      5.020000   \n",
      "75%       31.700000     30.142500     25.220000     21.630000      8.400000   \n",
      "max      101.920000     97.280000     77.410000     75.450000     24.290000   \n",
      "\n",
      "              var25         var26         var27        var28         var30  \n",
      "count  30000.000000  30000.000000  30000.000000  30000.00000  30000.000000  \n",
      "mean       9.969102     12.081941      4.015074      1.00956     16.040880  \n",
      "std        9.997636     12.013399      4.010969      1.00323     16.038787  \n",
      "min      -29.580000    -46.500000    -14.170000     -3.45000    -49.930000  \n",
      "25%        3.240000      3.890000      1.310000      0.33000      5.360000  \n",
      "50%        9.930000     12.110000      3.990000      1.01000     16.140000  \n",
      "75%       16.680000     20.160000      6.710000      1.68000     26.780000  \n",
      "max       52.930000     58.830000     20.350000      5.07000     82.050000  \n"
     ]
    }
   ],
   "source": [
    "print(pdl.describe())"
   ]
  },
  {
   "cell_type": "code",
   "execution_count": 14,
   "metadata": {},
   "outputs": [],
   "source": [
    "pdl[\"payment\"]=np.where(pdl[\"payment\"]==\"Success\",1,0)\n",
    "\n",
    "k=pdl.columns\n",
    "\n",
    "for col in k:\n",
    "    if pdl[col].dtype=='object':\n",
    "        temp=pd.get_dummies(pdl[col],drop_first=True,prefix=col)\n",
    "        pdl=pd.concat([pdl,temp],axis=1)\n",
    "        pdl.drop([col],axis=1,inplace=True)\n",
    "\n",
    "\n",
    "pdl.dropna(axis=0,inplace=True)\n",
    "\n"
   ]
  },
  {
   "cell_type": "code",
   "execution_count": 15,
   "metadata": {},
   "outputs": [],
   "source": [
    "pdl_train, pdl_test = train_test_split(pdl, test_size = 0.2,random_state=2)\n",
    "\n",
    "#x_train=pdl_train.drop([\"payment\"],1)\n",
    "x_train=pdl_train.drop(columns=\"payment\")\n",
    "y_train=pdl_train[\"payment\"]\n",
    "\n",
    "#x_test=pdl_test.drop([\"payment\"],1)\n",
    "x_test=pdl_test.drop(columns=\"payment\")\n",
    "y_test=pdl_test[\"payment\"]\n",
    "\n",
    "x_train.reset_index(drop=True,inplace=True)\n",
    "y_train.reset_index(drop=True,inplace=True)"
   ]
  },
  {
   "cell_type": "code",
   "execution_count": 16,
   "metadata": {},
   "outputs": [
    {
     "data": {
      "text/plain": [
       "0        0\n",
       "1        1\n",
       "2        0\n",
       "3        0\n",
       "4        1\n",
       "        ..\n",
       "23995    0\n",
       "23996    1\n",
       "23997    0\n",
       "23998    0\n",
       "23999    1\n",
       "Name: payment, Length: 24000, dtype: int32"
      ]
     },
     "execution_count": 16,
     "metadata": {},
     "output_type": "execute_result"
    }
   ],
   "source": [
    "y_train"
   ]
  },
  {
   "cell_type": "code",
   "execution_count": 17,
   "metadata": {},
   "outputs": [
    {
     "data": {
      "text/html": [
       "<div>\n",
       "<style scoped>\n",
       "    .dataframe tbody tr th:only-of-type {\n",
       "        vertical-align: middle;\n",
       "    }\n",
       "\n",
       "    .dataframe tbody tr th {\n",
       "        vertical-align: top;\n",
       "    }\n",
       "\n",
       "    .dataframe thead th {\n",
       "        text-align: right;\n",
       "    }\n",
       "</style>\n",
       "<table border=\"1\" class=\"dataframe\">\n",
       "  <thead>\n",
       "    <tr style=\"text-align: right;\">\n",
       "      <th></th>\n",
       "      <th>var3</th>\n",
       "      <th>var4</th>\n",
       "      <th>var5</th>\n",
       "      <th>var6</th>\n",
       "      <th>var7</th>\n",
       "      <th>var8</th>\n",
       "      <th>var12</th>\n",
       "      <th>var14</th>\n",
       "      <th>var15</th>\n",
       "      <th>var16</th>\n",
       "      <th>...</th>\n",
       "      <th>var23_da</th>\n",
       "      <th>var23_fe</th>\n",
       "      <th>var23_po</th>\n",
       "      <th>var23_qu</th>\n",
       "      <th>var23_ri</th>\n",
       "      <th>var23_sy</th>\n",
       "      <th>var23_tf</th>\n",
       "      <th>var23_ub</th>\n",
       "      <th>var23_yv</th>\n",
       "      <th>var29_ev</th>\n",
       "    </tr>\n",
       "  </thead>\n",
       "  <tbody>\n",
       "    <tr>\n",
       "      <th>0</th>\n",
       "      <td>1.02</td>\n",
       "      <td>22.08</td>\n",
       "      <td>8.69</td>\n",
       "      <td>-9.24</td>\n",
       "      <td>21.06</td>\n",
       "      <td>2.21</td>\n",
       "      <td>1.33</td>\n",
       "      <td>2.00</td>\n",
       "      <td>7.62</td>\n",
       "      <td>-5.77</td>\n",
       "      <td>...</td>\n",
       "      <td>0</td>\n",
       "      <td>1</td>\n",
       "      <td>0</td>\n",
       "      <td>0</td>\n",
       "      <td>0</td>\n",
       "      <td>0</td>\n",
       "      <td>0</td>\n",
       "      <td>0</td>\n",
       "      <td>0</td>\n",
       "      <td>0</td>\n",
       "    </tr>\n",
       "    <tr>\n",
       "      <th>1</th>\n",
       "      <td>2.09</td>\n",
       "      <td>11.25</td>\n",
       "      <td>23.46</td>\n",
       "      <td>12.11</td>\n",
       "      <td>29.57</td>\n",
       "      <td>4.77</td>\n",
       "      <td>8.86</td>\n",
       "      <td>2.38</td>\n",
       "      <td>29.48</td>\n",
       "      <td>28.14</td>\n",
       "      <td>...</td>\n",
       "      <td>0</td>\n",
       "      <td>0</td>\n",
       "      <td>0</td>\n",
       "      <td>0</td>\n",
       "      <td>0</td>\n",
       "      <td>0</td>\n",
       "      <td>1</td>\n",
       "      <td>0</td>\n",
       "      <td>0</td>\n",
       "      <td>0</td>\n",
       "    </tr>\n",
       "    <tr>\n",
       "      <th>2</th>\n",
       "      <td>6.77</td>\n",
       "      <td>25.95</td>\n",
       "      <td>3.95</td>\n",
       "      <td>17.74</td>\n",
       "      <td>19.78</td>\n",
       "      <td>9.02</td>\n",
       "      <td>3.76</td>\n",
       "      <td>0.72</td>\n",
       "      <td>34.00</td>\n",
       "      <td>17.19</td>\n",
       "      <td>...</td>\n",
       "      <td>0</td>\n",
       "      <td>0</td>\n",
       "      <td>0</td>\n",
       "      <td>0</td>\n",
       "      <td>0</td>\n",
       "      <td>0</td>\n",
       "      <td>0</td>\n",
       "      <td>1</td>\n",
       "      <td>0</td>\n",
       "      <td>1</td>\n",
       "    </tr>\n",
       "    <tr>\n",
       "      <th>3</th>\n",
       "      <td>2.75</td>\n",
       "      <td>12.47</td>\n",
       "      <td>-4.54</td>\n",
       "      <td>-1.42</td>\n",
       "      <td>-10.32</td>\n",
       "      <td>9.11</td>\n",
       "      <td>8.37</td>\n",
       "      <td>7.91</td>\n",
       "      <td>4.86</td>\n",
       "      <td>3.67</td>\n",
       "      <td>...</td>\n",
       "      <td>0</td>\n",
       "      <td>0</td>\n",
       "      <td>0</td>\n",
       "      <td>0</td>\n",
       "      <td>0</td>\n",
       "      <td>0</td>\n",
       "      <td>0</td>\n",
       "      <td>1</td>\n",
       "      <td>0</td>\n",
       "      <td>1</td>\n",
       "    </tr>\n",
       "    <tr>\n",
       "      <th>4</th>\n",
       "      <td>4.47</td>\n",
       "      <td>7.90</td>\n",
       "      <td>31.60</td>\n",
       "      <td>2.53</td>\n",
       "      <td>-12.66</td>\n",
       "      <td>3.64</td>\n",
       "      <td>1.87</td>\n",
       "      <td>5.07</td>\n",
       "      <td>19.04</td>\n",
       "      <td>28.70</td>\n",
       "      <td>...</td>\n",
       "      <td>0</td>\n",
       "      <td>0</td>\n",
       "      <td>0</td>\n",
       "      <td>0</td>\n",
       "      <td>0</td>\n",
       "      <td>0</td>\n",
       "      <td>1</td>\n",
       "      <td>0</td>\n",
       "      <td>0</td>\n",
       "      <td>1</td>\n",
       "    </tr>\n",
       "  </tbody>\n",
       "</table>\n",
       "<p>5 rows × 62 columns</p>\n",
       "</div>"
      ],
      "text/plain": [
       "   var3   var4   var5   var6   var7  var8  var12  var14  var15  var16  ...  \\\n",
       "0  1.02  22.08   8.69  -9.24  21.06  2.21   1.33   2.00   7.62  -5.77  ...   \n",
       "1  2.09  11.25  23.46  12.11  29.57  4.77   8.86   2.38  29.48  28.14  ...   \n",
       "2  6.77  25.95   3.95  17.74  19.78  9.02   3.76   0.72  34.00  17.19  ...   \n",
       "3  2.75  12.47  -4.54  -1.42 -10.32  9.11   8.37   7.91   4.86   3.67  ...   \n",
       "4  4.47   7.90  31.60   2.53 -12.66  3.64   1.87   5.07  19.04  28.70  ...   \n",
       "\n",
       "   var23_da  var23_fe  var23_po  var23_qu  var23_ri  var23_sy  var23_tf  \\\n",
       "0         0         1         0         0         0         0         0   \n",
       "1         0         0         0         0         0         0         1   \n",
       "2         0         0         0         0         0         0         0   \n",
       "3         0         0         0         0         0         0         0   \n",
       "4         0         0         0         0         0         0         1   \n",
       "\n",
       "   var23_ub  var23_yv  var29_ev  \n",
       "0         0         0         0  \n",
       "1         0         0         0  \n",
       "2         1         0         1  \n",
       "3         1         0         1  \n",
       "4         0         0         1  \n",
       "\n",
       "[5 rows x 62 columns]"
      ]
     },
     "execution_count": 17,
     "metadata": {},
     "output_type": "execute_result"
    }
   ],
   "source": [
    "x_train.head()"
   ]
  },
  {
   "cell_type": "markdown",
   "metadata": {},
   "source": [
    "# Pregunta 1:\n",
    "Construye un  clasificador usando K-NN con 3 vecinos y otro usando un arbol de decision. ¿cual produce mejor resultado? ¿que metrica has usado? segun el arbol de decision, ¿que metricas son las mas relevantes?\n"
   ]
  },
  {
   "cell_type": "code",
   "execution_count": 18,
   "metadata": {},
   "outputs": [
    {
     "data": {
      "text/html": [
       "<style>#sk-container-id-1 {\n",
       "  /* Definition of color scheme common for light and dark mode */\n",
       "  --sklearn-color-text: #000;\n",
       "  --sklearn-color-text-muted: #666;\n",
       "  --sklearn-color-line: gray;\n",
       "  /* Definition of color scheme for unfitted estimators */\n",
       "  --sklearn-color-unfitted-level-0: #fff5e6;\n",
       "  --sklearn-color-unfitted-level-1: #f6e4d2;\n",
       "  --sklearn-color-unfitted-level-2: #ffe0b3;\n",
       "  --sklearn-color-unfitted-level-3: chocolate;\n",
       "  /* Definition of color scheme for fitted estimators */\n",
       "  --sklearn-color-fitted-level-0: #f0f8ff;\n",
       "  --sklearn-color-fitted-level-1: #d4ebff;\n",
       "  --sklearn-color-fitted-level-2: #b3dbfd;\n",
       "  --sklearn-color-fitted-level-3: cornflowerblue;\n",
       "\n",
       "  /* Specific color for light theme */\n",
       "  --sklearn-color-text-on-default-background: var(--sg-text-color, var(--theme-code-foreground, var(--jp-content-font-color1, black)));\n",
       "  --sklearn-color-background: var(--sg-background-color, var(--theme-background, var(--jp-layout-color0, white)));\n",
       "  --sklearn-color-border-box: var(--sg-text-color, var(--theme-code-foreground, var(--jp-content-font-color1, black)));\n",
       "  --sklearn-color-icon: #696969;\n",
       "\n",
       "  @media (prefers-color-scheme: dark) {\n",
       "    /* Redefinition of color scheme for dark theme */\n",
       "    --sklearn-color-text-on-default-background: var(--sg-text-color, var(--theme-code-foreground, var(--jp-content-font-color1, white)));\n",
       "    --sklearn-color-background: var(--sg-background-color, var(--theme-background, var(--jp-layout-color0, #111)));\n",
       "    --sklearn-color-border-box: var(--sg-text-color, var(--theme-code-foreground, var(--jp-content-font-color1, white)));\n",
       "    --sklearn-color-icon: #878787;\n",
       "  }\n",
       "}\n",
       "\n",
       "#sk-container-id-1 {\n",
       "  color: var(--sklearn-color-text);\n",
       "}\n",
       "\n",
       "#sk-container-id-1 pre {\n",
       "  padding: 0;\n",
       "}\n",
       "\n",
       "#sk-container-id-1 input.sk-hidden--visually {\n",
       "  border: 0;\n",
       "  clip: rect(1px 1px 1px 1px);\n",
       "  clip: rect(1px, 1px, 1px, 1px);\n",
       "  height: 1px;\n",
       "  margin: -1px;\n",
       "  overflow: hidden;\n",
       "  padding: 0;\n",
       "  position: absolute;\n",
       "  width: 1px;\n",
       "}\n",
       "\n",
       "#sk-container-id-1 div.sk-dashed-wrapped {\n",
       "  border: 1px dashed var(--sklearn-color-line);\n",
       "  margin: 0 0.4em 0.5em 0.4em;\n",
       "  box-sizing: border-box;\n",
       "  padding-bottom: 0.4em;\n",
       "  background-color: var(--sklearn-color-background);\n",
       "}\n",
       "\n",
       "#sk-container-id-1 div.sk-container {\n",
       "  /* jupyter's `normalize.less` sets `[hidden] { display: none; }`\n",
       "     but bootstrap.min.css set `[hidden] { display: none !important; }`\n",
       "     so we also need the `!important` here to be able to override the\n",
       "     default hidden behavior on the sphinx rendered scikit-learn.org.\n",
       "     See: https://github.com/scikit-learn/scikit-learn/issues/21755 */\n",
       "  display: inline-block !important;\n",
       "  position: relative;\n",
       "}\n",
       "\n",
       "#sk-container-id-1 div.sk-text-repr-fallback {\n",
       "  display: none;\n",
       "}\n",
       "\n",
       "div.sk-parallel-item,\n",
       "div.sk-serial,\n",
       "div.sk-item {\n",
       "  /* draw centered vertical line to link estimators */\n",
       "  background-image: linear-gradient(var(--sklearn-color-text-on-default-background), var(--sklearn-color-text-on-default-background));\n",
       "  background-size: 2px 100%;\n",
       "  background-repeat: no-repeat;\n",
       "  background-position: center center;\n",
       "}\n",
       "\n",
       "/* Parallel-specific style estimator block */\n",
       "\n",
       "#sk-container-id-1 div.sk-parallel-item::after {\n",
       "  content: \"\";\n",
       "  width: 100%;\n",
       "  border-bottom: 2px solid var(--sklearn-color-text-on-default-background);\n",
       "  flex-grow: 1;\n",
       "}\n",
       "\n",
       "#sk-container-id-1 div.sk-parallel {\n",
       "  display: flex;\n",
       "  align-items: stretch;\n",
       "  justify-content: center;\n",
       "  background-color: var(--sklearn-color-background);\n",
       "  position: relative;\n",
       "}\n",
       "\n",
       "#sk-container-id-1 div.sk-parallel-item {\n",
       "  display: flex;\n",
       "  flex-direction: column;\n",
       "}\n",
       "\n",
       "#sk-container-id-1 div.sk-parallel-item:first-child::after {\n",
       "  align-self: flex-end;\n",
       "  width: 50%;\n",
       "}\n",
       "\n",
       "#sk-container-id-1 div.sk-parallel-item:last-child::after {\n",
       "  align-self: flex-start;\n",
       "  width: 50%;\n",
       "}\n",
       "\n",
       "#sk-container-id-1 div.sk-parallel-item:only-child::after {\n",
       "  width: 0;\n",
       "}\n",
       "\n",
       "/* Serial-specific style estimator block */\n",
       "\n",
       "#sk-container-id-1 div.sk-serial {\n",
       "  display: flex;\n",
       "  flex-direction: column;\n",
       "  align-items: center;\n",
       "  background-color: var(--sklearn-color-background);\n",
       "  padding-right: 1em;\n",
       "  padding-left: 1em;\n",
       "}\n",
       "\n",
       "\n",
       "/* Toggleable style: style used for estimator/Pipeline/ColumnTransformer box that is\n",
       "clickable and can be expanded/collapsed.\n",
       "- Pipeline and ColumnTransformer use this feature and define the default style\n",
       "- Estimators will overwrite some part of the style using the `sk-estimator` class\n",
       "*/\n",
       "\n",
       "/* Pipeline and ColumnTransformer style (default) */\n",
       "\n",
       "#sk-container-id-1 div.sk-toggleable {\n",
       "  /* Default theme specific background. It is overwritten whether we have a\n",
       "  specific estimator or a Pipeline/ColumnTransformer */\n",
       "  background-color: var(--sklearn-color-background);\n",
       "}\n",
       "\n",
       "/* Toggleable label */\n",
       "#sk-container-id-1 label.sk-toggleable__label {\n",
       "  cursor: pointer;\n",
       "  display: flex;\n",
       "  width: 100%;\n",
       "  margin-bottom: 0;\n",
       "  padding: 0.5em;\n",
       "  box-sizing: border-box;\n",
       "  text-align: center;\n",
       "  align-items: start;\n",
       "  justify-content: space-between;\n",
       "  gap: 0.5em;\n",
       "}\n",
       "\n",
       "#sk-container-id-1 label.sk-toggleable__label .caption {\n",
       "  font-size: 0.6rem;\n",
       "  font-weight: lighter;\n",
       "  color: var(--sklearn-color-text-muted);\n",
       "}\n",
       "\n",
       "#sk-container-id-1 label.sk-toggleable__label-arrow:before {\n",
       "  /* Arrow on the left of the label */\n",
       "  content: \"▸\";\n",
       "  float: left;\n",
       "  margin-right: 0.25em;\n",
       "  color: var(--sklearn-color-icon);\n",
       "}\n",
       "\n",
       "#sk-container-id-1 label.sk-toggleable__label-arrow:hover:before {\n",
       "  color: var(--sklearn-color-text);\n",
       "}\n",
       "\n",
       "/* Toggleable content - dropdown */\n",
       "\n",
       "#sk-container-id-1 div.sk-toggleable__content {\n",
       "  max-height: 0;\n",
       "  max-width: 0;\n",
       "  overflow: hidden;\n",
       "  text-align: left;\n",
       "  /* unfitted */\n",
       "  background-color: var(--sklearn-color-unfitted-level-0);\n",
       "}\n",
       "\n",
       "#sk-container-id-1 div.sk-toggleable__content.fitted {\n",
       "  /* fitted */\n",
       "  background-color: var(--sklearn-color-fitted-level-0);\n",
       "}\n",
       "\n",
       "#sk-container-id-1 div.sk-toggleable__content pre {\n",
       "  margin: 0.2em;\n",
       "  border-radius: 0.25em;\n",
       "  color: var(--sklearn-color-text);\n",
       "  /* unfitted */\n",
       "  background-color: var(--sklearn-color-unfitted-level-0);\n",
       "}\n",
       "\n",
       "#sk-container-id-1 div.sk-toggleable__content.fitted pre {\n",
       "  /* unfitted */\n",
       "  background-color: var(--sklearn-color-fitted-level-0);\n",
       "}\n",
       "\n",
       "#sk-container-id-1 input.sk-toggleable__control:checked~div.sk-toggleable__content {\n",
       "  /* Expand drop-down */\n",
       "  max-height: 200px;\n",
       "  max-width: 100%;\n",
       "  overflow: auto;\n",
       "}\n",
       "\n",
       "#sk-container-id-1 input.sk-toggleable__control:checked~label.sk-toggleable__label-arrow:before {\n",
       "  content: \"▾\";\n",
       "}\n",
       "\n",
       "/* Pipeline/ColumnTransformer-specific style */\n",
       "\n",
       "#sk-container-id-1 div.sk-label input.sk-toggleable__control:checked~label.sk-toggleable__label {\n",
       "  color: var(--sklearn-color-text);\n",
       "  background-color: var(--sklearn-color-unfitted-level-2);\n",
       "}\n",
       "\n",
       "#sk-container-id-1 div.sk-label.fitted input.sk-toggleable__control:checked~label.sk-toggleable__label {\n",
       "  background-color: var(--sklearn-color-fitted-level-2);\n",
       "}\n",
       "\n",
       "/* Estimator-specific style */\n",
       "\n",
       "/* Colorize estimator box */\n",
       "#sk-container-id-1 div.sk-estimator input.sk-toggleable__control:checked~label.sk-toggleable__label {\n",
       "  /* unfitted */\n",
       "  background-color: var(--sklearn-color-unfitted-level-2);\n",
       "}\n",
       "\n",
       "#sk-container-id-1 div.sk-estimator.fitted input.sk-toggleable__control:checked~label.sk-toggleable__label {\n",
       "  /* fitted */\n",
       "  background-color: var(--sklearn-color-fitted-level-2);\n",
       "}\n",
       "\n",
       "#sk-container-id-1 div.sk-label label.sk-toggleable__label,\n",
       "#sk-container-id-1 div.sk-label label {\n",
       "  /* The background is the default theme color */\n",
       "  color: var(--sklearn-color-text-on-default-background);\n",
       "}\n",
       "\n",
       "/* On hover, darken the color of the background */\n",
       "#sk-container-id-1 div.sk-label:hover label.sk-toggleable__label {\n",
       "  color: var(--sklearn-color-text);\n",
       "  background-color: var(--sklearn-color-unfitted-level-2);\n",
       "}\n",
       "\n",
       "/* Label box, darken color on hover, fitted */\n",
       "#sk-container-id-1 div.sk-label.fitted:hover label.sk-toggleable__label.fitted {\n",
       "  color: var(--sklearn-color-text);\n",
       "  background-color: var(--sklearn-color-fitted-level-2);\n",
       "}\n",
       "\n",
       "/* Estimator label */\n",
       "\n",
       "#sk-container-id-1 div.sk-label label {\n",
       "  font-family: monospace;\n",
       "  font-weight: bold;\n",
       "  display: inline-block;\n",
       "  line-height: 1.2em;\n",
       "}\n",
       "\n",
       "#sk-container-id-1 div.sk-label-container {\n",
       "  text-align: center;\n",
       "}\n",
       "\n",
       "/* Estimator-specific */\n",
       "#sk-container-id-1 div.sk-estimator {\n",
       "  font-family: monospace;\n",
       "  border: 1px dotted var(--sklearn-color-border-box);\n",
       "  border-radius: 0.25em;\n",
       "  box-sizing: border-box;\n",
       "  margin-bottom: 0.5em;\n",
       "  /* unfitted */\n",
       "  background-color: var(--sklearn-color-unfitted-level-0);\n",
       "}\n",
       "\n",
       "#sk-container-id-1 div.sk-estimator.fitted {\n",
       "  /* fitted */\n",
       "  background-color: var(--sklearn-color-fitted-level-0);\n",
       "}\n",
       "\n",
       "/* on hover */\n",
       "#sk-container-id-1 div.sk-estimator:hover {\n",
       "  /* unfitted */\n",
       "  background-color: var(--sklearn-color-unfitted-level-2);\n",
       "}\n",
       "\n",
       "#sk-container-id-1 div.sk-estimator.fitted:hover {\n",
       "  /* fitted */\n",
       "  background-color: var(--sklearn-color-fitted-level-2);\n",
       "}\n",
       "\n",
       "/* Specification for estimator info (e.g. \"i\" and \"?\") */\n",
       "\n",
       "/* Common style for \"i\" and \"?\" */\n",
       "\n",
       ".sk-estimator-doc-link,\n",
       "a:link.sk-estimator-doc-link,\n",
       "a:visited.sk-estimator-doc-link {\n",
       "  float: right;\n",
       "  font-size: smaller;\n",
       "  line-height: 1em;\n",
       "  font-family: monospace;\n",
       "  background-color: var(--sklearn-color-background);\n",
       "  border-radius: 1em;\n",
       "  height: 1em;\n",
       "  width: 1em;\n",
       "  text-decoration: none !important;\n",
       "  margin-left: 0.5em;\n",
       "  text-align: center;\n",
       "  /* unfitted */\n",
       "  border: var(--sklearn-color-unfitted-level-1) 1pt solid;\n",
       "  color: var(--sklearn-color-unfitted-level-1);\n",
       "}\n",
       "\n",
       ".sk-estimator-doc-link.fitted,\n",
       "a:link.sk-estimator-doc-link.fitted,\n",
       "a:visited.sk-estimator-doc-link.fitted {\n",
       "  /* fitted */\n",
       "  border: var(--sklearn-color-fitted-level-1) 1pt solid;\n",
       "  color: var(--sklearn-color-fitted-level-1);\n",
       "}\n",
       "\n",
       "/* On hover */\n",
       "div.sk-estimator:hover .sk-estimator-doc-link:hover,\n",
       ".sk-estimator-doc-link:hover,\n",
       "div.sk-label-container:hover .sk-estimator-doc-link:hover,\n",
       ".sk-estimator-doc-link:hover {\n",
       "  /* unfitted */\n",
       "  background-color: var(--sklearn-color-unfitted-level-3);\n",
       "  color: var(--sklearn-color-background);\n",
       "  text-decoration: none;\n",
       "}\n",
       "\n",
       "div.sk-estimator.fitted:hover .sk-estimator-doc-link.fitted:hover,\n",
       ".sk-estimator-doc-link.fitted:hover,\n",
       "div.sk-label-container:hover .sk-estimator-doc-link.fitted:hover,\n",
       ".sk-estimator-doc-link.fitted:hover {\n",
       "  /* fitted */\n",
       "  background-color: var(--sklearn-color-fitted-level-3);\n",
       "  color: var(--sklearn-color-background);\n",
       "  text-decoration: none;\n",
       "}\n",
       "\n",
       "/* Span, style for the box shown on hovering the info icon */\n",
       ".sk-estimator-doc-link span {\n",
       "  display: none;\n",
       "  z-index: 9999;\n",
       "  position: relative;\n",
       "  font-weight: normal;\n",
       "  right: .2ex;\n",
       "  padding: .5ex;\n",
       "  margin: .5ex;\n",
       "  width: min-content;\n",
       "  min-width: 20ex;\n",
       "  max-width: 50ex;\n",
       "  color: var(--sklearn-color-text);\n",
       "  box-shadow: 2pt 2pt 4pt #999;\n",
       "  /* unfitted */\n",
       "  background: var(--sklearn-color-unfitted-level-0);\n",
       "  border: .5pt solid var(--sklearn-color-unfitted-level-3);\n",
       "}\n",
       "\n",
       ".sk-estimator-doc-link.fitted span {\n",
       "  /* fitted */\n",
       "  background: var(--sklearn-color-fitted-level-0);\n",
       "  border: var(--sklearn-color-fitted-level-3);\n",
       "}\n",
       "\n",
       ".sk-estimator-doc-link:hover span {\n",
       "  display: block;\n",
       "}\n",
       "\n",
       "/* \"?\"-specific style due to the `<a>` HTML tag */\n",
       "\n",
       "#sk-container-id-1 a.estimator_doc_link {\n",
       "  float: right;\n",
       "  font-size: 1rem;\n",
       "  line-height: 1em;\n",
       "  font-family: monospace;\n",
       "  background-color: var(--sklearn-color-background);\n",
       "  border-radius: 1rem;\n",
       "  height: 1rem;\n",
       "  width: 1rem;\n",
       "  text-decoration: none;\n",
       "  /* unfitted */\n",
       "  color: var(--sklearn-color-unfitted-level-1);\n",
       "  border: var(--sklearn-color-unfitted-level-1) 1pt solid;\n",
       "}\n",
       "\n",
       "#sk-container-id-1 a.estimator_doc_link.fitted {\n",
       "  /* fitted */\n",
       "  border: var(--sklearn-color-fitted-level-1) 1pt solid;\n",
       "  color: var(--sklearn-color-fitted-level-1);\n",
       "}\n",
       "\n",
       "/* On hover */\n",
       "#sk-container-id-1 a.estimator_doc_link:hover {\n",
       "  /* unfitted */\n",
       "  background-color: var(--sklearn-color-unfitted-level-3);\n",
       "  color: var(--sklearn-color-background);\n",
       "  text-decoration: none;\n",
       "}\n",
       "\n",
       "#sk-container-id-1 a.estimator_doc_link.fitted:hover {\n",
       "  /* fitted */\n",
       "  background-color: var(--sklearn-color-fitted-level-3);\n",
       "}\n",
       "</style><div id=\"sk-container-id-1\" class=\"sk-top-container\"><div class=\"sk-text-repr-fallback\"><pre>DecisionTreeClassifier(random_state=2)</pre><b>In a Jupyter environment, please rerun this cell to show the HTML representation or trust the notebook. <br />On GitHub, the HTML representation is unable to render, please try loading this page with nbviewer.org.</b></div><div class=\"sk-container\" hidden><div class=\"sk-item\"><div class=\"sk-estimator fitted sk-toggleable\"><input class=\"sk-toggleable__control sk-hidden--visually\" id=\"sk-estimator-id-1\" type=\"checkbox\" checked><label for=\"sk-estimator-id-1\" class=\"sk-toggleable__label fitted sk-toggleable__label-arrow\"><div><div>DecisionTreeClassifier</div></div><div><a class=\"sk-estimator-doc-link fitted\" rel=\"noreferrer\" target=\"_blank\" href=\"https://scikit-learn.org/1.6/modules/generated/sklearn.tree.DecisionTreeClassifier.html\">?<span>Documentation for DecisionTreeClassifier</span></a><span class=\"sk-estimator-doc-link fitted\">i<span>Fitted</span></span></div></label><div class=\"sk-toggleable__content fitted\"><pre>DecisionTreeClassifier(random_state=2)</pre></div> </div></div></div></div>"
      ],
      "text/plain": [
       "DecisionTreeClassifier(random_state=2)"
      ]
     },
     "execution_count": 18,
     "metadata": {},
     "output_type": "execute_result"
    }
   ],
   "source": [
    "#Desarrollo del arbol de decision y el clasificador K-NN con 3 vecinos\n",
    "\n",
    "knn = KNeighborsClassifier(n_neighbors=3)\n",
    "knn.fit(x_train, y_train)\n",
    "\n",
    "tree = DecisionTreeClassifier(random_state=2)\n",
    "tree.fit(x_train, y_train)"
   ]
  },
  {
   "cell_type": "markdown",
   "metadata": {},
   "source": [
    "# ¿Cual produce mejor resultado?\n",
    "El arbol de decision tiene un accuracy mas alto, por lo tanto ha clasificado mejor en el conjunto de prueba en comparacion con K-NN (3 vecinos) \n",
    "\n",
    "K-NN 3 vecinos -> 66%\n",
    "\n",
    "Arbol de decision -> 78%"
   ]
  },
  {
   "cell_type": "code",
   "execution_count": 19,
   "metadata": {},
   "outputs": [
    {
     "name": "stdout",
     "output_type": "stream",
     "text": [
      "accuracy K-NN:  0.665\n",
      "accuracy Arbol de decision:  0.7808333333333334\n"
     ]
    }
   ],
   "source": [
    "y_prediccion_knn = knn.predict(x_test)\n",
    "y_prediccion_tree = tree.predict(x_test)\n",
    "\n",
    "accuracy_knn = accuracy_score(y_test, y_prediccion_knn)\n",
    "accuracy_tree = accuracy_score(y_test, y_prediccion_tree)\n",
    "\n",
    "print(\"accuracy K-NN: \", accuracy_knn)\n",
    "print(\"accuracy Arbol de decision: \", accuracy_tree)"
   ]
  },
  {
   "cell_type": "markdown",
   "metadata": {},
   "source": [
    "# ¿Que métrica he utilizado?\n",
    "Se utiliza la metrica accuracy para analizar que tan frecuente acierta el modelo\n",
    "\n",
    "Dado que el conjunto está moderadamente desbalanceado (no es extremadamente desigual, pero aún relevante), la métrica accuracy puede ser engañosa. Esto se puede observar mediante la distribucion de las clases: "
   ]
  },
  {
   "cell_type": "code",
   "execution_count": 20,
   "metadata": {},
   "outputs": [
    {
     "name": "stdout",
     "output_type": "stream",
     "text": [
      "y:  0    14993\n",
      "1     9007\n",
      "Name: payment, dtype: int64\n"
     ]
    }
   ],
   "source": [
    "print(\"y: \", y_train.value_counts())\n"
   ]
  },
  {
   "cell_type": "markdown",
   "metadata": {},
   "source": [
    "# segun el arbol de decision, ¿que metricas son las mas relevantes?\n",
    "Teniendo en cuenta que las metricas son formas de evaluar qué tan bien está funcionando el modelo. Y concluyendo que las metricas mas relevantes en un arbol de decision se refiere a variables del dataset, entonces se tiene que:   "
   ]
  },
  {
   "cell_type": "code",
   "execution_count": 21,
   "metadata": {},
   "outputs": [
    {
     "name": "stdout",
     "output_type": "stream",
     "text": [
      " las Variables más relevantes segun el arbol de decisiones: \n",
      "var25       0.359539\n",
      "var17_bw    0.089330\n",
      "var16       0.078087\n",
      "var7        0.051179\n",
      "var23_ub    0.047099\n",
      "var22       0.021257\n",
      "var24       0.020780\n",
      "var26       0.019466\n",
      "var5        0.018959\n",
      "var14       0.018841\n",
      "dtype: float64\n"
     ]
    }
   ],
   "source": [
    "importances = tree.feature_importances_\n",
    "\n",
    "features = x_train.columns\n",
    "feature_importance = pd.Series(importances, index=features)\n",
    "\n",
    "top_features = feature_importance.sort_values(ascending=False).head(10)\n",
    "print(\" las Variables más relevantes segun el arbol de decisiones: \")\n",
    "print(top_features)"
   ]
  },
  {
   "cell_type": "markdown",
   "metadata": {},
   "source": [
    "Las variables mas relevantes descritas por el arbol de decisiones son aquellas que mayor influencia tuvieron en las decisiones del modelo, en este caso var25 tiene una mayor importancia con un 35% de influencia en el modelo "
   ]
  },
  {
   "cell_type": "markdown",
   "metadata": {},
   "source": [
    "# Pregunta 2:\n",
    "Repite el ejercicio anterior usando normalizacion de los datos y compara los resultados."
   ]
  },
  {
   "cell_type": "code",
   "execution_count": 22,
   "metadata": {},
   "outputs": [
    {
     "name": "stdout",
     "output_type": "stream",
     "text": [
      "Con los datos normalizados 0.705\n",
      "              precision    recall  f1-score   support\n",
      "\n",
      "           0       0.81      0.70      0.75      3762\n",
      "           1       0.58      0.72      0.65      2238\n",
      "\n",
      "    accuracy                           0.70      6000\n",
      "   macro avg       0.70      0.71      0.70      6000\n",
      "weighted avg       0.72      0.70      0.71      6000\n",
      "\n"
     ]
    }
   ],
   "source": [
    "scaler = MinMaxScaler()\n",
    "x_train_norm = scaler.fit_transform(x_train)\n",
    "x_test_norm = scaler.fit_transform(x_test)\n",
    "\n",
    "modelo_norm = DecisionTreeClassifier(random_state=2)\n",
    "modelo_norm.fit(x_train_norm, y_train)\n",
    "\n",
    "pred_norm = modelo_norm.predict(x_test_norm)\n",
    "\n",
    "print(\"Con los datos normalizados\", accuracy_score(y_test, pred_norm))\n",
    "\n",
    "print(classification_report(y_test, pred_norm))"
   ]
  },
  {
   "cell_type": "markdown",
   "metadata": {},
   "source": [
    "Aplicando normalizacion a los datos el modelo tiene una exactitud general del 70% de los casos \n",
    "\n",
    "En la clase 0 (No pagó el crédito) se puede observar que el modelo acertó el 81%. Además, logró un recall del 70%, es decir, identificó correctamente al 70% de los clientes que realmente no pagaron. Y el promedio entre precision y recall fue del 75% (F1-Score)\n",
    "\n",
    "En la clase 1 (Sí pagó) el modelo acertó el 58% de las veces. Esto se puede deber al desbalance entre las clases. De los que realmente si pagaron, el modelo acertó en el 72% (Recall) y el promedio entre precision y Recall fue del 65% (F1-Score)   "
   ]
  },
  {
   "cell_type": "markdown",
   "metadata": {},
   "source": [
    "# Pregunta 3:\n",
    "Usando GridSearchCV, identifica para un clasificador K-NN el numero de vecinos entre 1 y 30 que optimiza el resultado usando como scoring la precision y con 10 folds para la validacion cruzada. "
   ]
  },
  {
   "cell_type": "code",
   "execution_count": 23,
   "metadata": {},
   "outputs": [],
   "source": [
    "param_grid = {'n_neighbors': list(range(1, 31))}\n",
    "\n",
    "grid_search = GridSearchCV(\n",
    "    estimator=knn,\n",
    "    param_grid=param_grid,\n",
    "    scoring='precision',\n",
    "    cv=10,\n",
    "    n_jobs=-1\n",
    ")"
   ]
  },
  {
   "cell_type": "code",
   "execution_count": 24,
   "metadata": {},
   "outputs": [
    {
     "name": "stdout",
     "output_type": "stream",
     "text": [
      "mejor numero de vecinos:  30\n",
      "Mejor precision promedio en validacion cruzada:  0.6081400121954836\n"
     ]
    }
   ],
   "source": [
    "grid_search.fit(x_train_norm, y_train)\n",
    "\n",
    "print(\"mejor numero de vecinos: \", grid_search.best_params_['n_neighbors'])\n",
    "print(\"Mejor precision promedio en validacion cruzada: \", grid_search.best_score_)"
   ]
  },
  {
   "cell_type": "markdown",
   "metadata": {},
   "source": [
    "Tras aplicar el clasificador K-NN con un valor óptimo de vecinos igual a 30 (determinado mediante validación cruzada con GridSearchCV optimizando la precisión). El modelo alcanzó una precisión global del 68%."
   ]
  },
  {
   "cell_type": "markdown",
   "metadata": {},
   "source": [
    "# Pregunta 4:\n",
    "Obten la matriz de confusion del clasificador optimo anterior. ¿como lees cada uno de los valores?¿que valor de precission y recall tiene el clasificador optimizado con precission?"
   ]
  },
  {
   "cell_type": "code",
   "execution_count": 25,
   "metadata": {},
   "outputs": [
    {
     "name": "stdout",
     "output_type": "stream",
     "text": [
      "Matriz de confusión: \n",
      " [[3480  282]\n",
      " [1420  818]]\n",
      "\n",
      " Reporte de clasificacion: \n",
      "               precision    recall  f1-score   support\n",
      "\n",
      "           0       0.71      0.93      0.80      3762\n",
      "           1       0.74      0.37      0.49      2238\n",
      "\n",
      "    accuracy                           0.72      6000\n",
      "   macro avg       0.73      0.65      0.65      6000\n",
      "weighted avg       0.72      0.72      0.69      6000\n",
      "\n"
     ]
    }
   ],
   "source": [
    "knn2 = KNeighborsClassifier(n_neighbors=30)\n",
    "knn2.fit(x_train, y_train)\n",
    "\n",
    "y_pred = knn2.predict(x_test)\n",
    "\n",
    "matriz_confusion = confusion_matrix(y_test, y_pred)\n",
    "print(\"Matriz de confusión: \\n\", matriz_confusion)\n",
    "\n",
    "reporte = classification_report(y_test, y_pred)\n",
    "print(\"\\n Reporte de clasificacion: \\n\", reporte)"
   ]
  },
  {
   "cell_type": "markdown",
   "metadata": {},
   "source": [
    "# matriz de confusion\n",
    "3480 transacciones fueron correctamente clasificadas como no pagadas (clase 0)\n",
    "\n",
    "818 transacciones fueron correctamente clasificadas como pagadas (clase 1)\n",
    "\n",
    "282 transacciones que sí fueron pagadas, el modelo las clasificó como no pagadas (falsos negativos)\n",
    "\n",
    "1420 transacciones que no fueron pagadas, el modelo las clasificó como pagadas (falsos positivos)"
   ]
  },
  {
   "cell_type": "markdown",
   "metadata": {},
   "source": [
    "# Reporte de clasificacion\n",
    "el modelo identifica correctamente la mayoria de los casos en los que no se pagó el crédito 93% (Recall). Sin embargo, tiene dificultades para identificar correctamente a quienes sí pagaron 37% (Recall), aunque cuando lo hace, acierta un 74% (precision). Esto indica un desequilibrio en el rendimiento entre clases, posiblemente al desbalance entre los datos        "
   ]
  },
  {
   "cell_type": "markdown",
   "metadata": {},
   "source": [
    "# Pregunta 5:\n",
    "Construye ahora una red neuronal usando MLPClassifier de dos capas. Prueba diferente numero de neuronas por capa. ¿afecta al resultado?"
   ]
  },
  {
   "cell_type": "code",
   "execution_count": 26,
   "metadata": {},
   "outputs": [],
   "source": [
    "estructura = (100, 50)"
   ]
  },
  {
   "cell_type": "code",
   "execution_count": 27,
   "metadata": {},
   "outputs": [
    {
     "name": "stderr",
     "output_type": "stream",
     "text": [
      "c:\\Users\\ZUN\\AppData\\Local\\Programs\\Python\\Python311\\Lib\\site-packages\\sklearn\\neural_network\\_multilayer_perceptron.py:691: ConvergenceWarning: Stochastic Optimizer: Maximum iterations (100) reached and the optimization hasn't converged yet.\n",
      "  warnings.warn(\n"
     ]
    }
   ],
   "source": [
    "mlp = MLPClassifier(hidden_layer_sizes= estructura, max_iter=100, random_state=42)\n",
    "mlp.fit(x_train, y_train)\n",
    "pred = mlp.predict(x_test)"
   ]
  },
  {
   "cell_type": "code",
   "execution_count": 28,
   "metadata": {},
   "outputs": [
    {
     "name": "stdout",
     "output_type": "stream",
     "text": [
      "Matriz de confusion: \n",
      "[[3074  688]\n",
      " [ 457 1781]]\n",
      "\n",
      " Reporte de clasificacion: \n",
      "              precision    recall  f1-score   support\n",
      "\n",
      "           0       0.87      0.82      0.84      3762\n",
      "           1       0.72      0.80      0.76      2238\n",
      "\n",
      "    accuracy                           0.81      6000\n",
      "   macro avg       0.80      0.81      0.80      6000\n",
      "weighted avg       0.81      0.81      0.81      6000\n",
      "\n"
     ]
    }
   ],
   "source": [
    "print(\"Matriz de confusion: \")\n",
    "print(confusion_matrix(y_test, pred))\n",
    "print(\"\\n Reporte de clasificacion: \")\n",
    "print(classification_report(y_test, pred))"
   ]
  },
  {
   "cell_type": "markdown",
   "metadata": {},
   "source": [
    "La red neuronal logró un accuracy del 81% lo cual indica un buen rendimiento general. El modelo segun los datos, muestra mejor desempeño en la clase 0 (como los anteriores modelos) con una precision del 87% y un Recall del 82%, mientras que para la clase 1 la precision es del 72% y el recall del 80%. El modelo tiende a clasificar mas correctamente a los clientes que pagan, pero aun conserva una buena capacidad para detectar a los que no lo hacen. La matriz de confucion respalda el analisis, dado que se muestra mas falsos positivos que falsos negativos  "
   ]
  },
  {
   "cell_type": "code",
   "execution_count": 30,
   "metadata": {},
   "outputs": [],
   "source": [
    "estructurav2 = (150, 100)"
   ]
  },
  {
   "cell_type": "code",
   "execution_count": 31,
   "metadata": {},
   "outputs": [
    {
     "name": "stderr",
     "output_type": "stream",
     "text": [
      "c:\\Users\\ZUN\\AppData\\Local\\Programs\\Python\\Python311\\Lib\\site-packages\\sklearn\\neural_network\\_multilayer_perceptron.py:691: ConvergenceWarning: Stochastic Optimizer: Maximum iterations (150) reached and the optimization hasn't converged yet.\n",
      "  warnings.warn(\n"
     ]
    }
   ],
   "source": [
    "mlp = MLPClassifier(hidden_layer_sizes= estructurav2, max_iter=150, random_state=42)\n",
    "mlp.fit(x_train, y_train)\n",
    "pred = mlp.predict(x_test)"
   ]
  },
  {
   "cell_type": "code",
   "execution_count": 32,
   "metadata": {},
   "outputs": [
    {
     "name": "stdout",
     "output_type": "stream",
     "text": [
      "Matriz de confusion: \n",
      "[[3267  495]\n",
      " [ 826 1412]]\n",
      "\n",
      " Reporte de clasificacion: \n",
      "              precision    recall  f1-score   support\n",
      "\n",
      "           0       0.80      0.87      0.83      3762\n",
      "           1       0.74      0.63      0.68      2238\n",
      "\n",
      "    accuracy                           0.78      6000\n",
      "   macro avg       0.77      0.75      0.76      6000\n",
      "weighted avg       0.78      0.78      0.78      6000\n",
      "\n"
     ]
    }
   ],
   "source": [
    "print(\"Matriz de confusion: \")\n",
    "print(confusion_matrix(y_test, pred))\n",
    "print(\"\\n Reporte de clasificacion: \")\n",
    "print(classification_report(y_test, pred))"
   ]
  },
  {
   "cell_type": "markdown",
   "metadata": {},
   "source": [
    "Al aumentar las capas ocultas y el número de iteraciones. La precision en la clase 1 aumentó de 72% a 74%, mientras que la precision en la clase 0 bajo considerablemente de 87% a 80%, se puede observar que Recall se mantiene relativamente estable, lo que indica que el modelo sigue teniendo dificultad para identificar todos los casos. F1-Score para clase 1 mejoró un poco, pasando de 66% a 68%, lo cual se interpreta un mejor equilibrio entre precision y Recall  "
   ]
  },
  {
   "cell_type": "markdown",
   "metadata": {},
   "source": [
    "### Pregunta 6:\n",
    "GradientBoostingClasifier es uno de los metodos de scikitlearn que mejor resultados suelen producir. Implementa un clasificador utilizando GradientBoostingClasifier considerando 0.05, 0.1, 0.15, 0.2, 0.25, 0.3 como learning rate.¿que learning rate produce un resultado optimo usando recall?"
   ]
  },
  {
   "cell_type": "code",
   "execution_count": 33,
   "metadata": {},
   "outputs": [],
   "source": [
    "learning_rate = [0.05, 0.1, 0.15, 0.2, 0.25, 0.3]\n",
    "resultados = []"
   ]
  },
  {
   "cell_type": "code",
   "execution_count": 34,
   "metadata": {},
   "outputs": [
    {
     "name": "stdout",
     "output_type": "stream",
     "text": [
      "Learning rate: 0.05 | Recall clase 1: 0.7895\n",
      "Learning rate: 0.1 | Recall clase 1: 0.8061\n",
      "Learning rate: 0.15 | Recall clase 1: 0.8052\n",
      "Learning rate: 0.2 | Recall clase 1: 0.8065\n",
      "Learning rate: 0.25 | Recall clase 1: 0.8061\n",
      "Learning rate: 0.3 | Recall clase 1: 0.8052\n"
     ]
    }
   ],
   "source": [
    "for lr in learning_rate:\n",
    "    clf = GradientBoostingClassifier(learning_rate=lr, random_state=42)\n",
    "    clf.fit(x_train, y_train)\n",
    "    pred = clf.predict(x_test)\n",
    "\n",
    "    report = classification_report(y_test, pred, output_dict=True)\n",
    "    recall_clase_1 = report['1']['recall']\n",
    "\n",
    "    resultados.append((lr, recall_clase_1))\n",
    "    print(f\"Learning rate: {lr} | Recall clase 1: {recall_clase_1:.4f}\")"
   ]
  },
  {
   "cell_type": "markdown",
   "metadata": {},
   "source": [
    "El mejor learning rate en terminos de recall para la clase 1 es 0.2, con un valor de 0.80 "
   ]
  },
  {
   "cell_type": "markdown",
   "metadata": {},
   "source": [
    "### Pregunta 6:\n",
    "Usando la matriz de confusion de los tres casos (GradientBoosting, MLP y K-NN) y derivando las metricas que te parezcan oportunas ¿Que clasificador de los 3 seleccionarias y porque?"
   ]
  },
  {
   "cell_type": "code",
   "execution_count": 49,
   "metadata": {},
   "outputs": [],
   "source": [
    "def evaluar_modelo(nombre, y_test, y_pred):\n",
    "    cm = confusion_matrix(y_test, y_pred)\n",
    "    report = classification_report(y_test, y_pred, output_dict=True)\n",
    "    accuracy = accuracy_score(y_test, y_pred)\n",
    "    recall_clase1 = report['1']['recall']\n",
    "    f1_clase1 = report['1']['f1-score']\n",
    "    print(f\"\\n Modelo: {nombre}\")\n",
    "    print(f\"Matriz de confusion: \\n {cm}\")\n",
    "    print(f\"Recall clase 1: {recall_clase1:.4f}\")\n",
    "    print(f\"f1_score clase 1: {f1_clase1:.4f}\")\n",
    "    print(f\"Accuracy: {accuracy:.4f}\")\n",
    "    return{\n",
    "        \"modelo\": nombre,\n",
    "        \"recall\": recall_clase1,\n",
    "        \"f1\": f1_clase1,\n",
    "        \"Accuracy\": accuracy\n",
    "    }"
   ]
  },
  {
   "cell_type": "code",
   "execution_count": 47,
   "metadata": {},
   "outputs": [
    {
     "name": "stdout",
     "output_type": "stream",
     "text": [
      "\n",
      " Modelo: Gradient Boosting\n",
      "Matriz de confusion: \n",
      " [[3407  355]\n",
      " [ 433 1805]]\n",
      "Recall clase 1: 0.8065\n",
      "f1_score clase 1: 0.8208\n",
      "Accuracy: 0.8687\n"
     ]
    }
   ],
   "source": [
    "resultados = []\n",
    "\n",
    "gb = GradientBoostingClassifier(learning_rate=0.2)\n",
    "gb.fit(x_train, y_train)\n",
    "y_pred_gb = gb.predict(x_test)\n",
    "resultados.append(evaluar_modelo(\"Gradient Boosting\", y_test, y_pred_gb))\n"
   ]
  },
  {
   "cell_type": "markdown",
   "metadata": {},
   "source": [
    "# Modelo: Gradient Boosting\n",
    "Es un metodo de aprendizaje supervisado que combina multiples arboles de decisiones pequeños para crear un modelo que intenta corregir los errores de los anteriores. \n",
    "\n",
    "Matriz de confusion: \n",
    "3407 casos donde el modelo predijo 0 y efectivamente eran 0\n",
    "\n",
    "355 casos donde el modelo predijo 1, pero en realidad era 0\n",
    "\n",
    "433 casos donde el modelo predijo 0, pero en realidad era 1\n",
    "\n",
    "1805 casos donde el modelo predijo 1 y efectivamente eran 1\n",
    "\n",
    "El modelo identifico correctamente el 80.6% de todos lo casos positivos (Recall clase 1)\n",
    "\n",
    "El modelo tiene una media armonica entre presicion y recall del 82% (f1_score clase1)\n",
    "\n",
    "El modelo mantiene una presicion del 86.8% (Accuracy)"
   ]
  },
  {
   "cell_type": "code",
   "execution_count": 48,
   "metadata": {},
   "outputs": [
    {
     "name": "stdout",
     "output_type": "stream",
     "text": [
      "\n",
      " Modelo: MLP\n",
      "Matriz de confusion: \n",
      " [[3397  365]\n",
      " [ 436 1802]]\n",
      "Recall clase 1: 0.8052\n",
      "f1_score clase 1: 0.8182\n",
      "Accuracy: 0.8665\n"
     ]
    }
   ],
   "source": [
    "resultados.append(evaluar_modelo(\"MLP\", y_test, pred))"
   ]
  },
  {
   "cell_type": "markdown",
   "metadata": {},
   "source": [
    "# Modelo: MLP\n",
    "Es un metodo de aprendizaje. \n",
    "\n",
    "Matriz de confusion:\n",
    "\n",
    "3397 casos donde el modelo prefijo 0 y efectivamente eran 0\n",
    "\n",
    "365 casos donde el modelo predijo 1, pero en realidad era 0\n",
    "\n",
    "436 casos donde el modelo predijo 0, pero en realidad era 1\n",
    "\n",
    "1802 casos donde el modelo predijo 1 y efectivamente si es 1\n",
    "\n",
    "El modelo identifico correctamente el 80.5% de todos lo casos positivos (Recall clase 1)\n",
    "\n",
    "El modelo tiene una media armonica entre presicion y recall del 81.8% (f1_score clase1)\n",
    "\n",
    "El modelo mantiene una presicion del 86.6% (Accuracy)"
   ]
  },
  {
   "cell_type": "code",
   "execution_count": 50,
   "metadata": {},
   "outputs": [
    {
     "name": "stdout",
     "output_type": "stream",
     "text": [
      "\n",
      " Modelo: K-NN\n",
      "Matriz de confusion: \n",
      " [[2901  861]\n",
      " [1149 1089]]\n",
      "Recall clase 1: 0.4866\n",
      "f1_score clase 1: 0.5201\n",
      "Accuracy: 0.6650\n"
     ]
    }
   ],
   "source": [
    "resultados.append(evaluar_modelo(\"K-NN\", y_test, y_prediccion_knn))"
   ]
  },
  {
   "cell_type": "markdown",
   "metadata": {},
   "source": [
    "# Modelo: k-NN\n",
    "Es un metodo de aprendizaje. \n",
    "\n",
    "Matriz de confusion:     \n",
    "2901 casos en el que el modelo predijo exitosamente que era 0\n",
    "\n",
    "861 casos en el que el modelo predijo que era 1, pero en realidad era 0\n",
    "\n",
    "1149 casos en el que el modelo predijo 0, pero en realidad era 1\n",
    "\n",
    "1089 casos en el que el modelo predijo 1 y exitosamente si era 1\n",
    "\n",
    "El modelo identifico correctamente el 48.6% de todos lo casos positivos (Recall clase 1)\n",
    "\n",
    "El modelo tiene una media armonica entre presicion y recall del 52% (f1_score clase1)\n",
    "\n",
    "El modelo mantiene una presicion del 66.5% (Accuracy)\n"
   ]
  },
  {
   "cell_type": "markdown",
   "metadata": {},
   "source": [
    "# Conclusion \n",
    "De los tres clasificadores seleccionaria el modelo Gradient Boosting, debido a que es ligeramente superior en todas las metricas "
   ]
  }
 ],
 "metadata": {
  "kernelspec": {
   "display_name": "Python 3",
   "language": "python",
   "name": "python3"
  },
  "language_info": {
   "codemirror_mode": {
    "name": "ipython",
    "version": 3
   },
   "file_extension": ".py",
   "mimetype": "text/x-python",
   "name": "python",
   "nbconvert_exporter": "python",
   "pygments_lexer": "ipython3",
   "version": "3.11.0"
  }
 },
 "nbformat": 4,
 "nbformat_minor": 4
}
